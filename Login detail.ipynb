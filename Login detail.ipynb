{
 "cells": [
  {
   "cell_type": "code",
   "execution_count": 7,
   "id": "5b529259",
   "metadata": {},
   "outputs": [
    {
     "name": "stdout",
     "output_type": "stream",
     "text": [
      "what is your username :emmanuel\n",
      "what is your password :maath342\n",
      "wrong credentials\n",
      "what is your username :Adeyemi\n",
      "what is your password :rain2014\n",
      "login successful\n"
     ]
    }
   ],
   "source": [
    "database = {\"Emmanuel\": \"math342\", \"Adeyemi\": \"rain2014\", \"Funmilayo\": \"tolu@2012\", \"Oluwashubomi\": \"tech2012\"}\n",
    "\n",
    "while True:\n",
    "\n",
    "    username = input(\"what is your username :\")\n",
    "    password = input(\"what is your password :\")\n",
    "    if username in database and database[username] == password:\n",
    "        print(\"login successful\")\n",
    "        break\n",
    "    else:\n",
    "        print(\"wrong credentials\")"
   ]
  },
  {
   "cell_type": "code",
   "execution_count": null,
   "id": "07546110",
   "metadata": {},
   "outputs": [],
   "source": []
  }
 ],
 "metadata": {
  "kernelspec": {
   "display_name": "Python 3",
   "language": "python",
   "name": "python3"
  },
  "language_info": {
   "codemirror_mode": {
    "name": "ipython",
    "version": 3
   },
   "file_extension": ".py",
   "mimetype": "text/x-python",
   "name": "python",
   "nbconvert_exporter": "python",
   "pygments_lexer": "ipython3",
   "version": "3.8.8"
  }
 },
 "nbformat": 4,
 "nbformat_minor": 5
}
