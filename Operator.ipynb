{
 "cells": [
  {
   "cell_type": "markdown",
   "id": "321cf92b",
   "metadata": {},
   "source": [
    "# Addition operator"
   ]
  },
  {
   "cell_type": "code",
   "execution_count": 21,
   "id": "be748b9d",
   "metadata": {},
   "outputs": [
    {
     "name": "stdout",
     "output_type": "stream",
     "text": [
      "14\n",
      "52\n",
      "7664\n",
      "12\n",
      "9090\n",
      "1001000\n",
      "873\n",
      "1788\n",
      "1776\n",
      "165\n"
     ]
    }
   ],
   "source": [
    "print(5+9)\n",
    "print(45+7)\n",
    "print(99+7565)\n",
    "print(2+2+2+2+2+2)\n",
    "print(90+9000)\n",
    "print(1000+1000000)\n",
    "print(6+90+777)\n",
    "print(789+999)\n",
    "print(999+777)\n",
    "print(76+89)"
   ]
  },
  {
   "cell_type": "markdown",
   "id": "5d2e52d6",
   "metadata": {},
   "source": [
    "# Modulus"
   ]
  },
  {
   "cell_type": "code",
   "execution_count": 2,
   "id": "35c05b8f",
   "metadata": {},
   "outputs": [
    {
     "name": "stdout",
     "output_type": "stream",
     "text": [
      "4\n",
      "3\n",
      "0\n",
      "0\n",
      "1\n",
      "2\n",
      "32\n",
      "9\n",
      "61\n",
      "2\n"
     ]
    }
   ],
   "source": [
    "print(60%7)\n",
    "print(88%5)\n",
    "print(30%10)\n",
    "print(55%5)\n",
    "print(10009%9)\n",
    "print(9090%4)\n",
    "print(8888%54)\n",
    "print(99%10)\n",
    "print(5555%67)\n",
    "print(2%9)"
   ]
  },
  {
   "cell_type": "markdown",
   "id": "c4296019",
   "metadata": {},
   "source": [
    "# Division operator"
   ]
  },
  {
   "cell_type": "code",
   "execution_count": 3,
   "id": "2825dc9d",
   "metadata": {},
   "outputs": [
    {
     "name": "stdout",
     "output_type": "stream",
     "text": [
      "11.0\n",
      "6.6\n",
      "17.555555555555557\n",
      "5.090909090909091\n",
      "61.871203093460444\n",
      "24.75\n",
      "14285.714285714286\n",
      "181.8\n",
      "11.285714285714286\n",
      "49378.0\n"
     ]
    }
   ],
   "source": [
    "print(55/5)\n",
    "print(66/10)\n",
    "print(790/45)\n",
    "print(56/11)\n",
    "print(7632246/123357)\n",
    "print(99/4)\n",
    "print(100000/7)\n",
    "print(9999/55)\n",
    "print(79/7)\n",
    "print(98756/2)"
   ]
  },
  {
   "cell_type": "markdown",
   "id": "4fe5249e",
   "metadata": {},
   "source": [
    "# Substraction Operator"
   ]
  },
  {
   "cell_type": "code",
   "execution_count": 4,
   "id": "f59f3842",
   "metadata": {},
   "outputs": [
    {
     "name": "stdout",
     "output_type": "stream",
     "text": [
      "0\n",
      "68\n",
      "-78\n",
      "2\n",
      "1\n",
      "11\n",
      "89\n",
      "22\n",
      "54\n",
      "73804\n"
     ]
    }
   ],
   "source": [
    "print(99-99)\n",
    "print(90-22)\n",
    "print(12-90)\n",
    "print(6-4)\n",
    "print(7-6)\n",
    "print(22-11)\n",
    "print(98-9)\n",
    "print(45-23)\n",
    "print(267-213)\n",
    "print(83678-9874)"
   ]
  },
  {
   "cell_type": "markdown",
   "id": "7a2b8463",
   "metadata": {},
   "source": [
    "# Power of operator"
   ]
  },
  {
   "cell_type": "code",
   "execution_count": 5,
   "id": "90470365",
   "metadata": {},
   "outputs": [
    {
     "name": "stdout",
     "output_type": "stream",
     "text": [
      "823543\n",
      "681472\n",
      "32768\n",
      "5444517870735015415413993718908291383296\n",
      "387420489\n",
      "595\n",
      "729\n",
      "35831808\n",
      "1544804416\n",
      "-387420489\n"
     ]
    }
   ],
   "source": [
    "print(7**7)\n",
    "print(88**3)\n",
    "print(2**15)\n",
    "print(4**66)\n",
    "print(9**9)\n",
    "print(7*85)\n",
    "print(9**3)\n",
    "print(12**7)\n",
    "print(34**6)\n",
    "print(-9**9)\n"
   ]
  },
  {
   "cell_type": "markdown",
   "id": "70a6779f",
   "metadata": {},
   "source": [
    "# Greater than operator"
   ]
  },
  {
   "cell_type": "code",
   "execution_count": 7,
   "id": "5a5cd8a5",
   "metadata": {},
   "outputs": [
    {
     "name": "stdout",
     "output_type": "stream",
     "text": [
      "True\n",
      "False\n",
      "False\n",
      "True\n",
      "False\n",
      "True\n",
      "False\n",
      "True\n",
      "True\n",
      "False\n"
     ]
    }
   ],
   "source": [
    "print(9>8)\n",
    "print(999>9999)\n",
    "print(33>223)\n",
    "print(44>3)\n",
    "print(56.7>65)\n",
    "print(23>22)\n",
    "print(78>99)\n",
    "print(45>33)\n",
    "print(66>44)\n",
    "print(0>9)\n"
   ]
  },
  {
   "cell_type": "markdown",
   "id": "7f77116e",
   "metadata": {},
   "source": [
    "# Floor operator"
   ]
  },
  {
   "cell_type": "code",
   "execution_count": 8,
   "id": "a83338a2",
   "metadata": {},
   "outputs": [
    {
     "name": "stdout",
     "output_type": "stream",
     "text": [
      "11\n",
      "4\n",
      "22\n",
      "7\n",
      "10\n",
      "8\n",
      "4\n",
      "42\n",
      "3\n",
      "4\n"
     ]
    }
   ],
   "source": [
    "print(77//7)\n",
    "print(8//2)\n",
    "print(67//3)\n",
    "print(46//6)\n",
    "print(90//9)\n",
    "print(33//4)\n",
    "print(234//56)\n",
    "print(986//23)\n",
    "print(99//32)\n",
    "print(22//5)"
   ]
  },
  {
   "cell_type": "markdown",
   "id": "712daea3",
   "metadata": {},
   "source": [
    "# Less than operator "
   ]
  },
  {
   "cell_type": "code",
   "execution_count": 9,
   "id": "8f2aef42",
   "metadata": {},
   "outputs": [
    {
     "name": "stdout",
     "output_type": "stream",
     "text": [
      "False\n",
      "True\n",
      "True\n",
      "False\n",
      "True\n",
      "False\n",
      "True\n",
      "False\n",
      "False\n",
      "True\n"
     ]
    }
   ],
   "source": [
    "print(9<8)\n",
    "print(999<9999)\n",
    "print(33<223)\n",
    "print(44<3)\n",
    "print(56.7<65)\n",
    "print(23<22)\n",
    "print(78<99)\n",
    "print(45<33)\n",
    "print(66<44)\n",
    "print(0<9)"
   ]
  },
  {
   "cell_type": "markdown",
   "id": "57ce2fdf",
   "metadata": {},
   "source": [
    "# Not equal operator"
   ]
  },
  {
   "cell_type": "code",
   "execution_count": 10,
   "id": "b92c3d6d",
   "metadata": {},
   "outputs": [
    {
     "name": "stdout",
     "output_type": "stream",
     "text": [
      "True\n",
      "True\n",
      "True\n",
      "True\n",
      "True\n",
      "False\n",
      "False\n",
      "True\n",
      "False\n",
      "False\n"
     ]
    }
   ],
   "source": [
    "print(7+7!=15)\n",
    "print(9-9!=9)\n",
    "print(90*10!=45)\n",
    "print(78!=98)\n",
    "print(3*2!=9)\n",
    "print(45+5!=50)\n",
    "print(11+11!=22)\n",
    "print(23/8!=9)\n",
    "print(33*3!=99)\n",
    "print(50-50!=0)"
   ]
  },
  {
   "cell_type": "markdown",
   "id": "08ac2901",
   "metadata": {},
   "source": [
    "# Equal to operator"
   ]
  },
  {
   "cell_type": "code",
   "execution_count": 11,
   "id": "559226fb",
   "metadata": {},
   "outputs": [
    {
     "name": "stdout",
     "output_type": "stream",
     "text": [
      "True\n",
      "True\n",
      "False\n",
      "False\n",
      "True\n",
      "False\n",
      "False\n",
      "False\n",
      "False\n",
      "True\n"
     ]
    }
   ],
   "source": [
    "print(4+5==9)\n",
    "print(90-90==0)\n",
    "print(6*35==90)\n",
    "print(2*6==78)\n",
    "print(77/11==7)\n",
    "print(23/34==7)\n",
    "print(12+12==56)\n",
    "print(100/9==90)\n",
    "print(98/4==7)\n",
    "print(45/5==9)"
   ]
  },
  {
   "cell_type": "markdown",
   "id": "592f7404",
   "metadata": {},
   "source": [
    "# Greater than equal to operator  "
   ]
  },
  {
   "cell_type": "code",
   "execution_count": 12,
   "id": "562509cb",
   "metadata": {},
   "outputs": [
    {
     "name": "stdout",
     "output_type": "stream",
     "text": [
      "True\n",
      "False\n",
      "False\n",
      "True\n",
      "True\n",
      "True\n",
      "True\n",
      "False\n",
      "True\n",
      "False\n"
     ]
    }
   ],
   "source": [
    "print(45>=9)\n",
    "print(90>=100)\n",
    "print(67>=76)\n",
    "print(91>=56)\n",
    "print(453>=453)\n",
    "print(23>=5)\n",
    "print(77>=77)\n",
    "print(23>=45)\n",
    "print(22>=21)\n",
    "print(865474>=76542255)"
   ]
  },
  {
   "cell_type": "markdown",
   "id": "3cf401f0",
   "metadata": {},
   "source": [
    "# Less than equal to operator "
   ]
  },
  {
   "cell_type": "code",
   "execution_count": 23,
   "id": "c016de00",
   "metadata": {},
   "outputs": [
    {
     "name": "stdout",
     "output_type": "stream",
     "text": [
      "False\n",
      "True\n",
      "True\n",
      "False\n",
      "True\n",
      "False\n",
      "True\n",
      "True\n",
      "False\n",
      "True\n"
     ]
    }
   ],
   "source": [
    "print(45<=9)\n",
    "print(90<=100)\n",
    "print(67<=76)\n",
    "print(91<=56)\n",
    "print(453<=453)\n",
    "print(23<=5)\n",
    "print(77<=77)\n",
    "print(23<=45)\n",
    "print(22<=21)\n",
    "print(865474<=76542255)"
   ]
  },
  {
   "cell_type": "markdown",
   "id": "953fb8ad",
   "metadata": {},
   "source": [
    "# Multiplication"
   ]
  },
  {
   "cell_type": "code",
   "execution_count": 13,
   "id": "3eda827b",
   "metadata": {},
   "outputs": [
    {
     "name": "stdout",
     "output_type": "stream",
     "text": [
      "405\n",
      "9000\n",
      "5092\n",
      "5096\n",
      "205209\n",
      "115\n",
      "5929\n",
      "1035\n",
      "462\n",
      "66245331603870\n"
     ]
    }
   ],
   "source": [
    "print(45*9)\n",
    "print(90*100)\n",
    "print(67*76)\n",
    "print(91*56)\n",
    "print(453*453)\n",
    "print(23*5)\n",
    "print(77*77)\n",
    "print(23*45)\n",
    "print(22*21)\n",
    "print(865474*76542255)"
   ]
  },
  {
   "cell_type": "markdown",
   "id": "93ac2833",
   "metadata": {},
   "source": [
    "# In operator "
   ]
  },
  {
   "cell_type": "code",
   "execution_count": 14,
   "id": "a1b985ce",
   "metadata": {},
   "outputs": [
    {
     "name": "stdout",
     "output_type": "stream",
     "text": [
      "True\n",
      "True\n",
      "False\n",
      "True\n",
      "True\n",
      "True\n",
      "False\n",
      "False\n",
      "False\n",
      "False\n"
     ]
    }
   ],
   "source": [
    "print(\"h\" in \"house\")\n",
    "print(\"o\" in \"house\")\n",
    "print(\"z\" in \"elephant\")\n",
    "print(\"po\" in \"mopol\")\n",
    "print(\"t\" in \"feminist\")\n",
    "print(\"k\" in \"kimono\")\n",
    "print(\"f\" in \"anthroplogist\")\n",
    "print(\"t\" in \"anarchy\")\n",
    "print(\"j\" in \"acromegaly\")\n",
    "print(\"8\" in \"finish\")"
   ]
  },
  {
   "cell_type": "markdown",
   "id": "f2b7a04c",
   "metadata": {},
   "source": [
    "# Not in operator "
   ]
  },
  {
   "cell_type": "code",
   "execution_count": 15,
   "id": "586e1d26",
   "metadata": {},
   "outputs": [
    {
     "name": "stdout",
     "output_type": "stream",
     "text": [
      "False\n",
      "False\n",
      "True\n",
      "False\n",
      "False\n",
      "False\n",
      "True\n",
      "True\n",
      "True\n",
      "True\n"
     ]
    }
   ],
   "source": [
    "print(\"h\" not in \"house\")\n",
    "print(\"o\" not in \"house\")\n",
    "print(\"z\" not in \"elephant\")\n",
    "print(\"po\" not in \"mopol\")\n",
    "print(\"t\" not in \"feminist\")\n",
    "print(\"k\" not in \"kimono\")\n",
    "print(\"f\" not in \"anthroplogist\")\n",
    "print(\"t\" not in \"anarchy\")\n",
    "print(\"j\" not in \"acromegaly\")\n",
    "print(\"8\" not in \"finish\")"
   ]
  },
  {
   "cell_type": "markdown",
   "id": "ca7efa84",
   "metadata": {},
   "source": [
    "# Assignment Operator"
   ]
  },
  {
   "cell_type": "code",
   "execution_count": 16,
   "id": "eb3ca2db",
   "metadata": {},
   "outputs": [
    {
     "name": "stdout",
     "output_type": "stream",
     "text": [
      "unicorn\n",
      "koala\n",
      "black\n",
      "(3, 'five ', 'billy')\n",
      "Naira\n",
      "potato\n",
      "tilapia\n",
      "blue\n",
      "('earth', ' venus')\n",
      "nigeria\n"
     ]
    }
   ],
   "source": [
    "name=\"unicorn\"\n",
    "print(name)\n",
    "animal='koala'\n",
    "print(animal)\n",
    "favcolor='black'\n",
    "print(favcolor)\n",
    "variable=3 ,'five ','billy'\n",
    "print(variable)\n",
    "nigeriancurrency='Naira'\n",
    "print(nigeriancurrency)\n",
    "tuber='potato'\n",
    "print(tuber)\n",
    "typeoffish='tilapia'\n",
    "print(typeoffish)\n",
    "color='blue'\n",
    "print(color)\n",
    "planet='earth',' venus'\n",
    "print(planet)\n",
    "country='nigeria'\n",
    "print(country)"
   ]
  },
  {
   "cell_type": "markdown",
   "id": "c55385ac",
   "metadata": {},
   "source": [
    "# Or  Operator"
   ]
  },
  {
   "cell_type": "code",
   "execution_count": 17,
   "id": "5817cf21",
   "metadata": {},
   "outputs": [
    {
     "name": "stdout",
     "output_type": "stream",
     "text": [
      "True\n",
      "False\n",
      "False\n",
      "False\n",
      "True\n",
      "True\n",
      "False\n",
      "False\n",
      "True\n",
      "True\n"
     ]
    }
   ],
   "source": [
    "x=9\n",
    "print(x>8 or x<8)\n",
    "x=99\n",
    "print(x>100 or x<98)\n",
    "x=23\n",
    "print(x>84 or x<8)\n",
    "x=9\n",
    "print(x>88 or x>99)\n",
    "x=77\n",
    "print(x>8 or x<8)\n",
    "x=0\n",
    "print(x>8 or x<8)\n",
    "x=44\n",
    "print(x>99 or x<2)\n",
    "x=112\n",
    "print(x>600 or x<23)\n",
    "x=34\n",
    "print(x>23 or x<55)\n",
    "j=33\n",
    "print(j>12 or j<0)"
   ]
  },
  {
   "cell_type": "markdown",
   "id": "b27ad613",
   "metadata": {},
   "source": [
    "# And Operator"
   ]
  },
  {
   "cell_type": "code",
   "execution_count": 18,
   "id": "e142d2bd",
   "metadata": {},
   "outputs": [
    {
     "name": "stdout",
     "output_type": "stream",
     "text": [
      "False\n",
      "False\n",
      "False\n",
      "False\n",
      "False\n",
      "False\n",
      "False\n",
      "False\n",
      "True\n",
      "False\n"
     ]
    }
   ],
   "source": [
    "x=9\n",
    "print(x>8 and x<8)\n",
    "x=99\n",
    "print(x>100 and x<98)\n",
    "x=23\n",
    "print(x>84 and x<8)\n",
    "x=9\n",
    "print(x>88 and x>99)\n",
    "x=77\n",
    "print(x>8 and x<8)\n",
    "x=0\n",
    "print(x>8 and x<8)\n",
    "x=44\n",
    "print(x>99 and x<2)\n",
    "x=112\n",
    "print(x>600 and x<23)\n",
    "x=34\n",
    "print(x>23 and x<55)\n",
    "j=33\n",
    "print(j>12 and j<0)"
   ]
  },
  {
   "cell_type": "markdown",
   "id": "3ee74042",
   "metadata": {},
   "source": [
    "# Not Operator"
   ]
  },
  {
   "cell_type": "code",
   "execution_count": 19,
   "id": "9a519c87",
   "metadata": {},
   "outputs": [
    {
     "name": "stdout",
     "output_type": "stream",
     "text": [
      "True\n",
      "True\n",
      "True\n",
      "True\n",
      "True\n",
      "True\n",
      "True\n",
      "True\n",
      "False\n",
      "True\n"
     ]
    }
   ],
   "source": [
    "x=9\n",
    "print(not(x>8 and x<8))\n",
    "x=99\n",
    "print(not(x>100 and x<98))\n",
    "x=23\n",
    "print(not(x>84 and x<8))\n",
    "x=9\n",
    "print(not(x>88 and x>99))\n",
    "x=77\n",
    "print(not(x>8 and x<8))\n",
    "x=0\n",
    "print(not(x>8 and x<8))\n",
    "x=44\n",
    "print(not(x>99 and x<2))\n",
    "x=112\n",
    "print(not(x>600 and x<23))\n",
    "x=34\n",
    "print(not(x>23 and x<55))\n",
    "j=33\n",
    "print(not(j>12 and j<0))"
   ]
  },
  {
   "cell_type": "markdown",
   "id": "d2959c9c",
   "metadata": {},
   "source": [
    "# In Operator"
   ]
  },
  {
   "cell_type": "code",
   "execution_count": 20,
   "id": "6e8b859d",
   "metadata": {},
   "outputs": [
    {
     "name": "stdout",
     "output_type": "stream",
     "text": [
      "False\n",
      "True\n",
      "False\n",
      "False\n",
      "True\n",
      "False\n",
      "False\n",
      "False\n",
      "False\n",
      "False\n"
     ]
    }
   ],
   "source": [
    "x= ['nano', 'loya', 'cowbell']\n",
    "print('banana' in x)\n",
    "x=['nano', 'loya', 'cowbell']\n",
    "print('nano' in x)\n",
    "x=['nano', 'loya', 'cowbell']\n",
    "print('yam' in x)\n",
    "x=['berry', 'ife', 'cowbell']\n",
    "print('gun' in x)\n",
    "x=['casor', 'damsel', 'cowbell']\n",
    "print('damsel' in x)\n",
    "x=['boy', 'coco', 'flakes']\n",
    "print('kite' in x)\n",
    "x=['kangaroo', 'panda', 'bear']\n",
    "print('k' in x)\n",
    "x=['hut', 'hunt', 'hunting']\n",
    "print('ut' in x)\n",
    "x=['nano', 'nanny', 'popsy']\n",
    "print('zino' in x)\n",
    "j=['n', 'l', 'ziglar']\n",
    "print('zebra' in j)"
   ]
  },
  {
   "cell_type": "code",
   "execution_count": null,
   "id": "228d725c",
   "metadata": {},
   "outputs": [],
   "source": []
  }
 ],
 "metadata": {
  "kernelspec": {
   "display_name": "Python 3",
   "language": "python",
   "name": "python3"
  },
  "language_info": {
   "codemirror_mode": {
    "name": "ipython",
    "version": 3
   },
   "file_extension": ".py",
   "mimetype": "text/x-python",
   "name": "python",
   "nbconvert_exporter": "python",
   "pygments_lexer": "ipython3",
   "version": "3.8.8"
  }
 },
 "nbformat": 4,
 "nbformat_minor": 5
}
