{
 "cells": [
  {
   "cell_type": "markdown",
   "id": "45497338",
   "metadata": {},
   "source": [
    "# Importation of libraries "
   ]
  },
  {
   "cell_type": "code",
   "execution_count": 1,
   "id": "4f1d9b1c",
   "metadata": {},
   "outputs": [],
   "source": [
    "import numpy as np\n",
    "import pandas as pd\n",
    "import matplotlib.pyplot as plt"
   ]
  },
  {
   "cell_type": "code",
   "execution_count": 2,
   "id": "c2243fd2",
   "metadata": {},
   "outputs": [
    {
     "data": {
      "text/html": [
       "<div>\n",
       "<style scoped>\n",
       "    .dataframe tbody tr th:only-of-type {\n",
       "        vertical-align: middle;\n",
       "    }\n",
       "\n",
       "    .dataframe tbody tr th {\n",
       "        vertical-align: top;\n",
       "    }\n",
       "\n",
       "    .dataframe thead th {\n",
       "        text-align: right;\n",
       "    }\n",
       "</style>\n",
       "<table border=\"1\" class=\"dataframe\">\n",
       "  <thead>\n",
       "    <tr style=\"text-align: right;\">\n",
       "      <th></th>\n",
       "      <th>CustomerKey</th>\n",
       "      <th>Prefix</th>\n",
       "      <th>FirstName</th>\n",
       "      <th>LastName</th>\n",
       "      <th>Unnamed: 4</th>\n",
       "      <th>Unnamed: 5</th>\n",
       "      <th>Unnamed: 6</th>\n",
       "      <th>BirthDate</th>\n",
       "      <th>Unnamed: 8</th>\n",
       "      <th>MaritalStatus</th>\n",
       "      <th>Gender</th>\n",
       "      <th>EmailAddress</th>\n",
       "      <th>AnnualIncome</th>\n",
       "      <th>TotalChildren</th>\n",
       "      <th>EducationLevel</th>\n",
       "      <th>Occupation</th>\n",
       "      <th>HomeOwner</th>\n",
       "      <th>Unnamed: 17</th>\n",
       "      <th>Unnamed: 18</th>\n",
       "      <th>BirthDate.1</th>\n",
       "    </tr>\n",
       "  </thead>\n",
       "  <tbody>\n",
       "    <tr>\n",
       "      <th>0</th>\n",
       "      <td>11000</td>\n",
       "      <td>MR.</td>\n",
       "      <td>JON</td>\n",
       "      <td>YANG</td>\n",
       "      <td>MR. JON YANG</td>\n",
       "      <td>YANG</td>\n",
       "      <td>YANG</td>\n",
       "      <td>4/8/1966</td>\n",
       "      <td>NaN</td>\n",
       "      <td>M</td>\n",
       "      <td>M</td>\n",
       "      <td>jon24@learnsector.com</td>\n",
       "      <td>$90,000</td>\n",
       "      <td>2</td>\n",
       "      <td>Bachelors</td>\n",
       "      <td>Professional</td>\n",
       "      <td>Y</td>\n",
       "      <td>NaN</td>\n",
       "      <td>NaN</td>\n",
       "      <td>14-05-1965</td>\n",
       "    </tr>\n",
       "    <tr>\n",
       "      <th>1</th>\n",
       "      <td>11001</td>\n",
       "      <td>MR.</td>\n",
       "      <td>EUGENE</td>\n",
       "      <td>HUANG</td>\n",
       "      <td>MR. EUGENE HUANG</td>\n",
       "      <td>HUANG</td>\n",
       "      <td>HUANG</td>\n",
       "      <td>14/05/1965</td>\n",
       "      <td>NaN</td>\n",
       "      <td>S</td>\n",
       "      <td>M</td>\n",
       "      <td>eugene10@learnsector.com</td>\n",
       "      <td>$60,000</td>\n",
       "      <td>3</td>\n",
       "      <td>Bachelors</td>\n",
       "      <td>Professional</td>\n",
       "      <td>N</td>\n",
       "      <td>NaN</td>\n",
       "      <td>NaN</td>\n",
       "      <td>15-02-1968</td>\n",
       "    </tr>\n",
       "    <tr>\n",
       "      <th>2</th>\n",
       "      <td>11002</td>\n",
       "      <td>MR.</td>\n",
       "      <td>RUBEN</td>\n",
       "      <td>TORRES</td>\n",
       "      <td>MR. RUBEN TORRES</td>\n",
       "      <td>TORRES</td>\n",
       "      <td>TORRES</td>\n",
       "      <td>8/12/1965</td>\n",
       "      <td>NaN</td>\n",
       "      <td>M</td>\n",
       "      <td>M</td>\n",
       "      <td>ruben35@learnsector.com</td>\n",
       "      <td>$60,000</td>\n",
       "      <td>3</td>\n",
       "      <td>Bachelors</td>\n",
       "      <td>Professional</td>\n",
       "      <td>Y</td>\n",
       "      <td>NaN</td>\n",
       "      <td>NaN</td>\n",
       "      <td>NaN</td>\n",
       "    </tr>\n",
       "    <tr>\n",
       "      <th>3</th>\n",
       "      <td>11003</td>\n",
       "      <td>MS.</td>\n",
       "      <td>CHRISTY</td>\n",
       "      <td>ZHU</td>\n",
       "      <td>MS. CHRISTY ZHU</td>\n",
       "      <td>ZHU</td>\n",
       "      <td>ZHU</td>\n",
       "      <td>15/02/1968</td>\n",
       "      <td>NaN</td>\n",
       "      <td>S</td>\n",
       "      <td>F</td>\n",
       "      <td>christy12@learnsector.com</td>\n",
       "      <td>$70,000</td>\n",
       "      <td>0</td>\n",
       "      <td>Bachelors</td>\n",
       "      <td>Professional</td>\n",
       "      <td>N</td>\n",
       "      <td>NaN</td>\n",
       "      <td>NaN</td>\n",
       "      <td>NaN</td>\n",
       "    </tr>\n",
       "    <tr>\n",
       "      <th>4</th>\n",
       "      <td>11004</td>\n",
       "      <td>MRS.</td>\n",
       "      <td>ELIZABETH</td>\n",
       "      <td>JOHNSON</td>\n",
       "      <td>MRS. ELIZABETH JOHNSON</td>\n",
       "      <td>JOHNSON</td>\n",
       "      <td>JOHNSON</td>\n",
       "      <td>8/8/1968</td>\n",
       "      <td>NaN</td>\n",
       "      <td>S</td>\n",
       "      <td>F</td>\n",
       "      <td>elizabeth5@learnsector.com</td>\n",
       "      <td>$80,000</td>\n",
       "      <td>5</td>\n",
       "      <td>Bachelors</td>\n",
       "      <td>Professional</td>\n",
       "      <td>Y</td>\n",
       "      <td>NaN</td>\n",
       "      <td>NaN</td>\n",
       "      <td>NaN</td>\n",
       "    </tr>\n",
       "  </tbody>\n",
       "</table>\n",
       "</div>"
      ],
      "text/plain": [
       "   CustomerKey Prefix  FirstName LastName              Unnamed: 4 Unnamed: 5  \\\n",
       "0        11000    MR.        JON     YANG            MR. JON YANG       YANG   \n",
       "1        11001    MR.     EUGENE    HUANG        MR. EUGENE HUANG      HUANG   \n",
       "2        11002    MR.      RUBEN   TORRES        MR. RUBEN TORRES     TORRES   \n",
       "3        11003    MS.    CHRISTY      ZHU         MS. CHRISTY ZHU        ZHU   \n",
       "4        11004   MRS.  ELIZABETH  JOHNSON  MRS. ELIZABETH JOHNSON    JOHNSON   \n",
       "\n",
       "  Unnamed: 6   BirthDate  Unnamed: 8 MaritalStatus Gender  \\\n",
       "0       YANG    4/8/1966         NaN             M      M   \n",
       "1      HUANG  14/05/1965         NaN             S      M   \n",
       "2     TORRES   8/12/1965         NaN             M      M   \n",
       "3        ZHU  15/02/1968         NaN             S      F   \n",
       "4    JOHNSON    8/8/1968         NaN             S      F   \n",
       "\n",
       "                 EmailAddress AnnualIncome  TotalChildren EducationLevel  \\\n",
       "0       jon24@learnsector.com     $90,000               2      Bachelors   \n",
       "1    eugene10@learnsector.com     $60,000               3      Bachelors   \n",
       "2     ruben35@learnsector.com     $60,000               3      Bachelors   \n",
       "3   christy12@learnsector.com     $70,000               0      Bachelors   \n",
       "4  elizabeth5@learnsector.com     $80,000               5      Bachelors   \n",
       "\n",
       "     Occupation HomeOwner  Unnamed: 17  Unnamed: 18 BirthDate.1  \n",
       "0  Professional         Y          NaN          NaN  14-05-1965  \n",
       "1  Professional         N          NaN          NaN  15-02-1968  \n",
       "2  Professional         Y          NaN          NaN         NaN  \n",
       "3  Professional         N          NaN          NaN         NaN  \n",
       "4  Professional         Y          NaN          NaN         NaN  "
      ]
     },
     "execution_count": 2,
     "metadata": {},
     "output_type": "execute_result"
    }
   ],
   "source": [
    "data=pd.read_csv(\"Downloads/Customers.csv\")\n",
    "data.head()"
   ]
  },
  {
   "cell_type": "code",
   "execution_count": 3,
   "id": "1c180fe5",
   "metadata": {},
   "outputs": [
    {
     "name": "stdout",
     "output_type": "stream",
     "text": [
      "<class 'pandas.core.frame.DataFrame'>\n",
      "RangeIndex: 18148 entries, 0 to 18147\n",
      "Data columns (total 20 columns):\n",
      " #   Column          Non-Null Count  Dtype  \n",
      "---  ------          --------------  -----  \n",
      " 0   CustomerKey     18148 non-null  int64  \n",
      " 1   Prefix          18018 non-null  object \n",
      " 2   FirstName       18148 non-null  object \n",
      " 3   LastName        18148 non-null  object \n",
      " 4   Unnamed: 4      18148 non-null  object \n",
      " 5   Unnamed: 5      18148 non-null  object \n",
      " 6   Unnamed: 6      46 non-null     object \n",
      " 7   BirthDate       18148 non-null  object \n",
      " 8   Unnamed: 8      0 non-null      float64\n",
      " 9   MaritalStatus   18148 non-null  object \n",
      " 10  Gender          18018 non-null  object \n",
      " 11  EmailAddress    18148 non-null  object \n",
      " 12  AnnualIncome    18148 non-null  object \n",
      " 13  TotalChildren   18148 non-null  int64  \n",
      " 14  EducationLevel  18148 non-null  object \n",
      " 15  Occupation      18148 non-null  object \n",
      " 16  HomeOwner       18148 non-null  object \n",
      " 17  Unnamed: 17     0 non-null      float64\n",
      " 18  Unnamed: 18     0 non-null      float64\n",
      " 19  BirthDate.1     2 non-null      object \n",
      "dtypes: float64(3), int64(2), object(15)\n",
      "memory usage: 2.8+ MB\n"
     ]
    }
   ],
   "source": [
    "data.info()"
   ]
  },
  {
   "cell_type": "code",
   "execution_count": 4,
   "id": "fc34cc10",
   "metadata": {},
   "outputs": [
    {
     "data": {
      "text/html": [
       "<div>\n",
       "<style scoped>\n",
       "    .dataframe tbody tr th:only-of-type {\n",
       "        vertical-align: middle;\n",
       "    }\n",
       "\n",
       "    .dataframe tbody tr th {\n",
       "        vertical-align: top;\n",
       "    }\n",
       "\n",
       "    .dataframe thead th {\n",
       "        text-align: right;\n",
       "    }\n",
       "</style>\n",
       "<table border=\"1\" class=\"dataframe\">\n",
       "  <thead>\n",
       "    <tr style=\"text-align: right;\">\n",
       "      <th></th>\n",
       "      <th>CustomerKey</th>\n",
       "      <th>Unnamed: 8</th>\n",
       "      <th>TotalChildren</th>\n",
       "      <th>Unnamed: 17</th>\n",
       "      <th>Unnamed: 18</th>\n",
       "    </tr>\n",
       "  </thead>\n",
       "  <tbody>\n",
       "    <tr>\n",
       "      <th>count</th>\n",
       "      <td>18148.000000</td>\n",
       "      <td>0.0</td>\n",
       "      <td>18148.000000</td>\n",
       "      <td>0.0</td>\n",
       "      <td>0.0</td>\n",
       "    </tr>\n",
       "    <tr>\n",
       "      <th>mean</th>\n",
       "      <td>20247.470465</td>\n",
       "      <td>NaN</td>\n",
       "      <td>1.843619</td>\n",
       "      <td>NaN</td>\n",
       "      <td>NaN</td>\n",
       "    </tr>\n",
       "    <tr>\n",
       "      <th>std</th>\n",
       "      <td>5336.245656</td>\n",
       "      <td>NaN</td>\n",
       "      <td>1.613203</td>\n",
       "      <td>NaN</td>\n",
       "      <td>NaN</td>\n",
       "    </tr>\n",
       "    <tr>\n",
       "      <th>min</th>\n",
       "      <td>11000.000000</td>\n",
       "      <td>NaN</td>\n",
       "      <td>0.000000</td>\n",
       "      <td>NaN</td>\n",
       "      <td>NaN</td>\n",
       "    </tr>\n",
       "    <tr>\n",
       "      <th>25%</th>\n",
       "      <td>15626.750000</td>\n",
       "      <td>NaN</td>\n",
       "      <td>0.000000</td>\n",
       "      <td>NaN</td>\n",
       "      <td>NaN</td>\n",
       "    </tr>\n",
       "    <tr>\n",
       "      <th>50%</th>\n",
       "      <td>20252.500000</td>\n",
       "      <td>NaN</td>\n",
       "      <td>2.000000</td>\n",
       "      <td>NaN</td>\n",
       "      <td>NaN</td>\n",
       "    </tr>\n",
       "    <tr>\n",
       "      <th>75%</th>\n",
       "      <td>24868.250000</td>\n",
       "      <td>NaN</td>\n",
       "      <td>3.000000</td>\n",
       "      <td>NaN</td>\n",
       "      <td>NaN</td>\n",
       "    </tr>\n",
       "    <tr>\n",
       "      <th>max</th>\n",
       "      <td>29483.000000</td>\n",
       "      <td>NaN</td>\n",
       "      <td>5.000000</td>\n",
       "      <td>NaN</td>\n",
       "      <td>NaN</td>\n",
       "    </tr>\n",
       "  </tbody>\n",
       "</table>\n",
       "</div>"
      ],
      "text/plain": [
       "        CustomerKey  Unnamed: 8  TotalChildren  Unnamed: 17  Unnamed: 18\n",
       "count  18148.000000         0.0   18148.000000          0.0          0.0\n",
       "mean   20247.470465         NaN       1.843619          NaN          NaN\n",
       "std     5336.245656         NaN       1.613203          NaN          NaN\n",
       "min    11000.000000         NaN       0.000000          NaN          NaN\n",
       "25%    15626.750000         NaN       0.000000          NaN          NaN\n",
       "50%    20252.500000         NaN       2.000000          NaN          NaN\n",
       "75%    24868.250000         NaN       3.000000          NaN          NaN\n",
       "max    29483.000000         NaN       5.000000          NaN          NaN"
      ]
     },
     "execution_count": 4,
     "metadata": {},
     "output_type": "execute_result"
    }
   ],
   "source": [
    "data.describe()"
   ]
  },
  {
   "cell_type": "markdown",
   "id": "88291a1f",
   "metadata": {},
   "source": [
    "# Cleaning of data"
   ]
  },
  {
   "cell_type": "code",
   "execution_count": 5,
   "id": "302e0d29",
   "metadata": {},
   "outputs": [
    {
     "data": {
      "text/plain": [
       "CustomerKey           0\n",
       "Prefix              130\n",
       "FirstName             0\n",
       "LastName              0\n",
       "Unnamed: 4            0\n",
       "Unnamed: 5            0\n",
       "Unnamed: 6        18102\n",
       "BirthDate             0\n",
       "Unnamed: 8        18148\n",
       "MaritalStatus         0\n",
       "Gender              130\n",
       "EmailAddress          0\n",
       "AnnualIncome          0\n",
       "TotalChildren         0\n",
       "EducationLevel        0\n",
       "Occupation            0\n",
       "HomeOwner             0\n",
       "Unnamed: 17       18148\n",
       "Unnamed: 18       18148\n",
       "BirthDate.1       18146\n",
       "dtype: int64"
      ]
     },
     "execution_count": 5,
     "metadata": {},
     "output_type": "execute_result"
    }
   ],
   "source": [
    "data.isnull().sum()"
   ]
  },
  {
   "cell_type": "code",
   "execution_count": 6,
   "id": "61f50e74",
   "metadata": {},
   "outputs": [],
   "source": [
    "data.drop(['Unnamed: 4','Unnamed: 5','Unnamed: 6','Unnamed: 8','Unnamed: 17','Unnamed: 18','BirthDate.1'] ,axis=1,inplace=True)"
   ]
  },
  {
   "cell_type": "code",
   "execution_count": 7,
   "id": "12913bed",
   "metadata": {},
   "outputs": [
    {
     "data": {
      "text/plain": [
       "CustomerKey         0\n",
       "Prefix            130\n",
       "FirstName           0\n",
       "LastName            0\n",
       "BirthDate           0\n",
       "MaritalStatus       0\n",
       "Gender            130\n",
       "EmailAddress        0\n",
       "AnnualIncome        0\n",
       "TotalChildren       0\n",
       "EducationLevel      0\n",
       "Occupation          0\n",
       "HomeOwner           0\n",
       "dtype: int64"
      ]
     },
     "execution_count": 7,
     "metadata": {},
     "output_type": "execute_result"
    }
   ],
   "source": [
    "data.isnull().sum()"
   ]
  },
  {
   "cell_type": "code",
   "execution_count": 8,
   "id": "dca9a36f",
   "metadata": {},
   "outputs": [],
   "source": [
    "data.dropna(axis=0,inplace=True)"
   ]
  },
  {
   "cell_type": "code",
   "execution_count": 9,
   "id": "e45c0850",
   "metadata": {},
   "outputs": [
    {
     "data": {
      "text/html": [
       "<div>\n",
       "<style scoped>\n",
       "    .dataframe tbody tr th:only-of-type {\n",
       "        vertical-align: middle;\n",
       "    }\n",
       "\n",
       "    .dataframe tbody tr th {\n",
       "        vertical-align: top;\n",
       "    }\n",
       "\n",
       "    .dataframe thead th {\n",
       "        text-align: right;\n",
       "    }\n",
       "</style>\n",
       "<table border=\"1\" class=\"dataframe\">\n",
       "  <thead>\n",
       "    <tr style=\"text-align: right;\">\n",
       "      <th></th>\n",
       "      <th>CustomerKey</th>\n",
       "      <th>Prefix</th>\n",
       "      <th>FirstName</th>\n",
       "      <th>LastName</th>\n",
       "      <th>BirthDate</th>\n",
       "      <th>MaritalStatus</th>\n",
       "      <th>Gender</th>\n",
       "      <th>EmailAddress</th>\n",
       "      <th>AnnualIncome</th>\n",
       "      <th>TotalChildren</th>\n",
       "      <th>EducationLevel</th>\n",
       "      <th>Occupation</th>\n",
       "      <th>HomeOwner</th>\n",
       "    </tr>\n",
       "  </thead>\n",
       "  <tbody>\n",
       "    <tr>\n",
       "      <th>0</th>\n",
       "      <td>11000</td>\n",
       "      <td>MR.</td>\n",
       "      <td>JON</td>\n",
       "      <td>YANG</td>\n",
       "      <td>4/8/1966</td>\n",
       "      <td>M</td>\n",
       "      <td>M</td>\n",
       "      <td>jon24@learnsector.com</td>\n",
       "      <td>$90,000</td>\n",
       "      <td>2</td>\n",
       "      <td>Bachelors</td>\n",
       "      <td>Professional</td>\n",
       "      <td>Y</td>\n",
       "    </tr>\n",
       "    <tr>\n",
       "      <th>1</th>\n",
       "      <td>11001</td>\n",
       "      <td>MR.</td>\n",
       "      <td>EUGENE</td>\n",
       "      <td>HUANG</td>\n",
       "      <td>14/05/1965</td>\n",
       "      <td>S</td>\n",
       "      <td>M</td>\n",
       "      <td>eugene10@learnsector.com</td>\n",
       "      <td>$60,000</td>\n",
       "      <td>3</td>\n",
       "      <td>Bachelors</td>\n",
       "      <td>Professional</td>\n",
       "      <td>N</td>\n",
       "    </tr>\n",
       "    <tr>\n",
       "      <th>2</th>\n",
       "      <td>11002</td>\n",
       "      <td>MR.</td>\n",
       "      <td>RUBEN</td>\n",
       "      <td>TORRES</td>\n",
       "      <td>8/12/1965</td>\n",
       "      <td>M</td>\n",
       "      <td>M</td>\n",
       "      <td>ruben35@learnsector.com</td>\n",
       "      <td>$60,000</td>\n",
       "      <td>3</td>\n",
       "      <td>Bachelors</td>\n",
       "      <td>Professional</td>\n",
       "      <td>Y</td>\n",
       "    </tr>\n",
       "    <tr>\n",
       "      <th>3</th>\n",
       "      <td>11003</td>\n",
       "      <td>MS.</td>\n",
       "      <td>CHRISTY</td>\n",
       "      <td>ZHU</td>\n",
       "      <td>15/02/1968</td>\n",
       "      <td>S</td>\n",
       "      <td>F</td>\n",
       "      <td>christy12@learnsector.com</td>\n",
       "      <td>$70,000</td>\n",
       "      <td>0</td>\n",
       "      <td>Bachelors</td>\n",
       "      <td>Professional</td>\n",
       "      <td>N</td>\n",
       "    </tr>\n",
       "    <tr>\n",
       "      <th>4</th>\n",
       "      <td>11004</td>\n",
       "      <td>MRS.</td>\n",
       "      <td>ELIZABETH</td>\n",
       "      <td>JOHNSON</td>\n",
       "      <td>8/8/1968</td>\n",
       "      <td>S</td>\n",
       "      <td>F</td>\n",
       "      <td>elizabeth5@learnsector.com</td>\n",
       "      <td>$80,000</td>\n",
       "      <td>5</td>\n",
       "      <td>Bachelors</td>\n",
       "      <td>Professional</td>\n",
       "      <td>Y</td>\n",
       "    </tr>\n",
       "  </tbody>\n",
       "</table>\n",
       "</div>"
      ],
      "text/plain": [
       "   CustomerKey Prefix  FirstName LastName   BirthDate MaritalStatus Gender  \\\n",
       "0        11000    MR.        JON     YANG    4/8/1966             M      M   \n",
       "1        11001    MR.     EUGENE    HUANG  14/05/1965             S      M   \n",
       "2        11002    MR.      RUBEN   TORRES   8/12/1965             M      M   \n",
       "3        11003    MS.    CHRISTY      ZHU  15/02/1968             S      F   \n",
       "4        11004   MRS.  ELIZABETH  JOHNSON    8/8/1968             S      F   \n",
       "\n",
       "                 EmailAddress AnnualIncome  TotalChildren EducationLevel  \\\n",
       "0       jon24@learnsector.com     $90,000               2      Bachelors   \n",
       "1    eugene10@learnsector.com     $60,000               3      Bachelors   \n",
       "2     ruben35@learnsector.com     $60,000               3      Bachelors   \n",
       "3   christy12@learnsector.com     $70,000               0      Bachelors   \n",
       "4  elizabeth5@learnsector.com     $80,000               5      Bachelors   \n",
       "\n",
       "     Occupation HomeOwner  \n",
       "0  Professional         Y  \n",
       "1  Professional         N  \n",
       "2  Professional         Y  \n",
       "3  Professional         N  \n",
       "4  Professional         Y  "
      ]
     },
     "execution_count": 9,
     "metadata": {},
     "output_type": "execute_result"
    }
   ],
   "source": [
    "data.head()"
   ]
  },
  {
   "cell_type": "markdown",
   "id": "0c37da50",
   "metadata": {},
   "source": [
    "# Visualization of data"
   ]
  },
  {
   "cell_type": "markdown",
   "id": "96dc9632",
   "metadata": {},
   "source": [
    "#### Count of customers by Marital Status"
   ]
  },
  {
   "cell_type": "code",
   "execution_count": 10,
   "id": "022d0597",
   "metadata": {},
   "outputs": [],
   "source": [
    "marital_count=data['MaritalStatus'].value_counts()"
   ]
  },
  {
   "cell_type": "code",
   "execution_count": 11,
   "id": "5223dd7f",
   "metadata": {},
   "outputs": [
    {
     "data": {
      "image/png": "[encoded data removed]",
      "text/plain": [
       "<Figure size 432x288 with 1 Axes>"
      ]
     },
     "metadata": {
      "needs_background": "light"
     },
     "output_type": "display_data"
    }
   ],
   "source": [
    "marital_count.plot(kind='bar')\n",
    "plt.title('Count of customers by MaritalStatus')\n",
    "\n",
    "plt.ylabel('Freqeuncy of martial status')\n",
    "plt.xlabel('value of martial status ')\n",
    "\n",
    "plt.show()"
   ]
  },
  {
   "cell_type": "markdown",
   "id": "caea2d0d",
   "metadata": {},
   "source": [
    "#### Count of customers by Gender "
   ]
  },
  {
   "cell_type": "code",
   "execution_count": 12,
   "id": "19e44bc2",
   "metadata": {},
   "outputs": [
    {
     "name": "stdout",
     "output_type": "stream",
     "text": [
      "M    9126\n",
      "F    8892\n",
      "Name: Gender, dtype: int64\n"
     ]
    }
   ],
   "source": [
    "gender_count=data['Gender'].value_counts()\n",
    "print(gender_count)"
   ]
  },
  {
   "cell_type": "code",
   "execution_count": 13,
   "id": "39481ef8",
   "metadata": {},
   "outputs": [
    {
     "data": {
      "text/plain": [
       "Text(0.5, 1.0, 'Count of customers by gender')"
      ]
     },
     "execution_count": 13,
     "metadata": {},
     "output_type": "execute_result"
    },
    {
     "data": {
      "image/png": "[encoded data removed]",
      "text/plain": [
       "<Figure size 432x288 with 1 Axes>"
      ]
     },
     "metadata": {},
     "output_type": "display_data"
    }
   ],
   "source": [
    "gender_count.plot(kind='pie',autopct='%1.2f%%')\n",
    "plt.title('Count of customers by gender')"
   ]
  },
  {
   "cell_type": "markdown",
   "id": "036a7ec8",
   "metadata": {},
   "source": [
    "#### Annual Income of the customer"
   ]
  },
  {
   "cell_type": "code",
   "execution_count": 14,
   "id": "29a3fc86",
   "metadata": {},
   "outputs": [
    {
     "name": "stderr",
     "output_type": "stream",
     "text": [
      "<ipython-input-14-45e31a062da6>:1: FutureWarning: The default value of regex will change from True to False in a future version. In addition, single character regular expressions will*not* be treated as literal strings when regex=True.\n",
      "  data['AnnualIncome'] =data['AnnualIncome'].str.replace('$', '').str.replace(',', '')\n"
     ]
    }
   ],
   "source": [
    "data['AnnualIncome'] =data['AnnualIncome'].str.replace('$', '').str.replace(',', '')\n",
    "\n"
   ]
  },
  {
   "cell_type": "code",
   "execution_count": 15,
   "id": "fd173875",
   "metadata": {},
   "outputs": [],
   "source": [
    "data['AnnualIncome'] = pd.to_numeric(data['AnnualIncome'])"
   ]
  },
  {
   "cell_type": "code",
   "execution_count": 16,
   "id": "284ddec6",
   "metadata": {},
   "outputs": [
    {
     "data": {
      "image/png": "[encoded data removed]",
      "text/plain": [
       "<Figure size 432x288 with 1 Axes>"
      ]
     },
     "metadata": {
      "needs_background": "light"
     },
     "output_type": "display_data"
    }
   ],
   "source": [
    "plt.hist(data['AnnualIncome'],bins=5,linewidth=0.5)\n",
    "\n",
    "plt.title('Annual income of the customer')\n",
    "plt.ylabel('Freqeuncy of income')\n",
    "plt.xlabel('value of income')\n",
    "\n",
    "plt.show()"
   ]
  },
  {
   "cell_type": "markdown",
   "id": "b47ac344",
   "metadata": {},
   "source": [
    "#### Average number of Total Children for each Education Level"
   ]
  },
  {
   "cell_type": "code",
   "execution_count": 17,
   "id": "704c0923",
   "metadata": {},
   "outputs": [
    {
     "name": "stdout",
     "output_type": "stream",
     "text": [
      "EducationLevel\n",
      "Bachelors              1.882004\n",
      "Graduate Degree        1.905898\n",
      "High School            1.943841\n",
      "Partial College        1.745684\n",
      "Partial High School    1.671429\n",
      "Name: TotalChildren, dtype: float64\n"
     ]
    }
   ],
   "source": [
    "avg_children=data.groupby('EducationLevel')['TotalChildren'].mean()\n",
    "\n",
    "print(avg_children)"
   ]
  },
  {
   "cell_type": "code",
   "execution_count": 18,
   "id": "df5ead35",
   "metadata": {},
   "outputs": [
    {
     "data": {
      "text/plain": [
       "Text(0.5, 1.0, 'Average number of Total Children for each Education Level')"
      ]
     },
     "execution_count": 18,
     "metadata": {},
     "output_type": "execute_result"
    },
    {
     "data": {
      "image/png": "[encoded data removed]",
      "text/plain": [
       "<Figure size 432x288 with 1 Axes>"
      ]
     },
     "metadata": {
      "needs_background": "light"
     },
     "output_type": "display_data"
    }
   ],
   "source": [
    "avg_children.plot(kind='bar')\n",
    "plt.title('Average number of Total Children for each Education Level')\n"
   ]
  },
  {
   "cell_type": "markdown",
   "id": "62290fec",
   "metadata": {},
   "source": [
    "#### Comparing  the average Annual Income across different Occupation categories.\n"
   ]
  },
  {
   "cell_type": "code",
   "execution_count": 19,
   "id": "3cbd1954",
   "metadata": {},
   "outputs": [
    {
     "name": "stdout",
     "output_type": "stream",
     "text": [
      "Occupation\n",
      "Clerical          30714.033227\n",
      "Management        92268.317163\n",
      "Manual            16465.295630\n",
      "Professional      74181.042478\n",
      "Skilled Manual    51707.262570\n",
      "Name: AnnualIncome, dtype: float64\n"
     ]
    }
   ],
   "source": [
    "avg_income=data.groupby('Occupation')['AnnualIncome'].mean()\n",
    "\n",
    "print(avg_income)"
   ]
  },
  {
   "cell_type": "code",
   "execution_count": 20,
   "id": "80da55b8",
   "metadata": {},
   "outputs": [
    {
     "data": {
      "text/plain": [
       "Text(0.5, 1.0, 'Average Annual Income across different Occupation')"
      ]
     },
     "execution_count": 20,
     "metadata": {},
     "output_type": "execute_result"
    },
    {
     "data": {
      "image/png": "[encoded data removed]",
      "text/plain": [
       "<Figure size 432x288 with 1 Axes>"
      ]
     },
     "metadata": {
      "needs_background": "light"
     },
     "output_type": "display_data"
    }
   ],
   "source": [
    "avg_income.plot(kind='bar')\n",
    "\n",
    "plt.title('Average Annual Income across different Occupation')"
   ]
  },
  {
   "cell_type": "markdown",
   "id": "ac2e5191",
   "metadata": {},
   "source": [
    "####  Count of customers in each Occupation category"
   ]
  },
  {
   "cell_type": "code",
   "execution_count": 21,
   "id": "c6b0209e",
   "metadata": {},
   "outputs": [
    {
     "data": {
      "text/plain": [
       "Text(0.5, 1.0, 'Count of Occupation')"
      ]
     },
     "execution_count": 21,
     "metadata": {},
     "output_type": "execute_result"
    },
    {
     "data": {
      "image/png": "[encoded data removed]",
      "text/plain": [
       "<Figure size 432x288 with 1 Axes>"
      ]
     },
     "metadata": {},
     "output_type": "display_data"
    }
   ],
   "source": [
    "data['Occupation'].value_counts().plot(kind='pie',autopct='%1.2f%%')\n",
    "\n",
    "plt.title('Count of Occupation')"
   ]
  },
  {
   "cell_type": "markdown",
   "id": "4c57b327",
   "metadata": {},
   "source": [
    "####  Customers age distribution "
   ]
  },
  {
   "cell_type": "code",
   "execution_count": 22,
   "id": "fd65d5e0",
   "metadata": {},
   "outputs": [
    {
     "name": "stdout",
     "output_type": "stream",
     "text": [
      "0       1966-04-08\n",
      "1       1965-05-14\n",
      "2       1965-08-12\n",
      "3       1968-02-15\n",
      "4       1968-08-08\n",
      "           ...    \n",
      "18143   1958-07-04\n",
      "18144   1960-11-10\n",
      "18145   1960-01-05\n",
      "18146   1959-03-05\n",
      "18147   1959-12-08\n",
      "Name: BirthDate, Length: 18018, dtype: datetime64[ns]\n"
     ]
    }
   ],
   "source": [
    "data['BirthDate']=pd.to_datetime(data['BirthDate'])\n",
    "\n",
    "print(data['BirthDate'])"
   ]
  },
  {
   "cell_type": "code",
   "execution_count": 23,
   "id": "0c62a300",
   "metadata": {},
   "outputs": [],
   "source": [
    "data['Age'] = pd.Timestamp.now().year - data['BirthDate'].dt.year\n"
   ]
  },
  {
   "cell_type": "code",
   "execution_count": 24,
   "id": "225b9128",
   "metadata": {},
   "outputs": [
    {
     "data": {
      "text/html": [
       "<div>\n",
       "<style scoped>\n",
       "    .dataframe tbody tr th:only-of-type {\n",
       "        vertical-align: middle;\n",
       "    }\n",
       "\n",
       "    .dataframe tbody tr th {\n",
       "        vertical-align: top;\n",
       "    }\n",
       "\n",
       "    .dataframe thead th {\n",
       "        text-align: right;\n",
       "    }\n",
       "</style>\n",
       "<table border=\"1\" class=\"dataframe\">\n",
       "  <thead>\n",
       "    <tr style=\"text-align: right;\">\n",
       "      <th></th>\n",
       "      <th>CustomerKey</th>\n",
       "      <th>Prefix</th>\n",
       "      <th>FirstName</th>\n",
       "      <th>LastName</th>\n",
       "      <th>BirthDate</th>\n",
       "      <th>MaritalStatus</th>\n",
       "      <th>Gender</th>\n",
       "      <th>EmailAddress</th>\n",
       "      <th>AnnualIncome</th>\n",
       "      <th>TotalChildren</th>\n",
       "      <th>EducationLevel</th>\n",
       "      <th>Occupation</th>\n",
       "      <th>HomeOwner</th>\n",
       "      <th>Age</th>\n",
       "    </tr>\n",
       "  </thead>\n",
       "  <tbody>\n",
       "    <tr>\n",
       "      <th>0</th>\n",
       "      <td>11000</td>\n",
       "      <td>MR.</td>\n",
       "      <td>JON</td>\n",
       "      <td>YANG</td>\n",
       "      <td>1966-04-08</td>\n",
       "      <td>M</td>\n",
       "      <td>M</td>\n",
       "      <td>jon24@learnsector.com</td>\n",
       "      <td>90000</td>\n",
       "      <td>2</td>\n",
       "      <td>Bachelors</td>\n",
       "      <td>Professional</td>\n",
       "      <td>Y</td>\n",
       "      <td>58</td>\n",
       "    </tr>\n",
       "    <tr>\n",
       "      <th>1</th>\n",
       "      <td>11001</td>\n",
       "      <td>MR.</td>\n",
       "      <td>EUGENE</td>\n",
       "      <td>HUANG</td>\n",
       "      <td>1965-05-14</td>\n",
       "      <td>S</td>\n",
       "      <td>M</td>\n",
       "      <td>eugene10@learnsector.com</td>\n",
       "      <td>60000</td>\n",
       "      <td>3</td>\n",
       "      <td>Bachelors</td>\n",
       "      <td>Professional</td>\n",
       "      <td>N</td>\n",
       "      <td>59</td>\n",
       "    </tr>\n",
       "    <tr>\n",
       "      <th>2</th>\n",
       "      <td>11002</td>\n",
       "      <td>MR.</td>\n",
       "      <td>RUBEN</td>\n",
       "      <td>TORRES</td>\n",
       "      <td>1965-08-12</td>\n",
       "      <td>M</td>\n",
       "      <td>M</td>\n",
       "      <td>ruben35@learnsector.com</td>\n",
       "      <td>60000</td>\n",
       "      <td>3</td>\n",
       "      <td>Bachelors</td>\n",
       "      <td>Professional</td>\n",
       "      <td>Y</td>\n",
       "      <td>59</td>\n",
       "    </tr>\n",
       "    <tr>\n",
       "      <th>3</th>\n",
       "      <td>11003</td>\n",
       "      <td>MS.</td>\n",
       "      <td>CHRISTY</td>\n",
       "      <td>ZHU</td>\n",
       "      <td>1968-02-15</td>\n",
       "      <td>S</td>\n",
       "      <td>F</td>\n",
       "      <td>christy12@learnsector.com</td>\n",
       "      <td>70000</td>\n",
       "      <td>0</td>\n",
       "      <td>Bachelors</td>\n",
       "      <td>Professional</td>\n",
       "      <td>N</td>\n",
       "      <td>56</td>\n",
       "    </tr>\n",
       "    <tr>\n",
       "      <th>4</th>\n",
       "      <td>11004</td>\n",
       "      <td>MRS.</td>\n",
       "      <td>ELIZABETH</td>\n",
       "      <td>JOHNSON</td>\n",
       "      <td>1968-08-08</td>\n",
       "      <td>S</td>\n",
       "      <td>F</td>\n",
       "      <td>elizabeth5@learnsector.com</td>\n",
       "      <td>80000</td>\n",
       "      <td>5</td>\n",
       "      <td>Bachelors</td>\n",
       "      <td>Professional</td>\n",
       "      <td>Y</td>\n",
       "      <td>56</td>\n",
       "    </tr>\n",
       "  </tbody>\n",
       "</table>\n",
       "</div>"
      ],
      "text/plain": [
       "   CustomerKey Prefix  FirstName LastName  BirthDate MaritalStatus Gender  \\\n",
       "0        11000    MR.        JON     YANG 1966-04-08             M      M   \n",
       "1        11001    MR.     EUGENE    HUANG 1965-05-14             S      M   \n",
       "2        11002    MR.      RUBEN   TORRES 1965-08-12             M      M   \n",
       "3        11003    MS.    CHRISTY      ZHU 1968-02-15             S      F   \n",
       "4        11004   MRS.  ELIZABETH  JOHNSON 1968-08-08             S      F   \n",
       "\n",
       "                 EmailAddress  AnnualIncome  TotalChildren EducationLevel  \\\n",
       "0       jon24@learnsector.com         90000              2      Bachelors   \n",
       "1    eugene10@learnsector.com         60000              3      Bachelors   \n",
       "2     ruben35@learnsector.com         60000              3      Bachelors   \n",
       "3   christy12@learnsector.com         70000              0      Bachelors   \n",
       "4  elizabeth5@learnsector.com         80000              5      Bachelors   \n",
       "\n",
       "     Occupation HomeOwner  Age  \n",
       "0  Professional         Y   58  \n",
       "1  Professional         N   59  \n",
       "2  Professional         Y   59  \n",
       "3  Professional         N   56  \n",
       "4  Professional         Y   56  "
      ]
     },
     "execution_count": 24,
     "metadata": {},
     "output_type": "execute_result"
    }
   ],
   "source": [
    "data.head()"
   ]
  },
  {
   "cell_type": "code",
   "execution_count": 25,
   "id": "af82a5e7",
   "metadata": {},
   "outputs": [
    {
     "data": {
      "text/plain": [
       "Text(0, 0.5, 'Frequency')"
      ]
     },
     "execution_count": 25,
     "metadata": {},
     "output_type": "execute_result"
    },
    {
     "data": {
      "image/png": "[encoded data removed]",
      "text/plain": [
       "<Figure size 432x288 with 1 Axes>"
      ]
     },
     "metadata": {
      "needs_background": "light"
     },
     "output_type": "display_data"
    }
   ],
   "source": [
    "data['Age'].hist()\n",
    "\n",
    "plt.title('Age Distribution of Customers')\n",
    "plt.xlabel('Age')\n",
    "plt.ylabel('Frequency')\n"
   ]
  },
  {
   "cell_type": "markdown",
   "id": "63ba9863",
   "metadata": {},
   "source": [
    "####  Change in average Annual Income over different age groups"
   ]
  },
  {
   "cell_type": "code",
   "execution_count": 26,
   "id": "e88021b2",
   "metadata": {},
   "outputs": [],
   "source": [
    "avg_income_by_age = data.groupby('Age')['AnnualIncome'].mean()"
   ]
  },
  {
   "cell_type": "code",
   "execution_count": 27,
   "id": "39254d60",
   "metadata": {},
   "outputs": [
    {
     "data": {
      "image/png": "[encoded data removed]",
      "text/plain": [
       "<Figure size 432x288 with 1 Axes>"
      ]
     },
     "metadata": {
      "needs_background": "light"
     },
     "output_type": "display_data"
    }
   ],
   "source": [
    "avg_income_by_age.plot.line()\n",
    "plt.title('Relationship between Age and Average Annual Income')\n",
    "plt.xlabel('Age')\n",
    "plt.ylabel('Average Annual Income')\n",
    "plt.show()"
   ]
  },
  {
   "cell_type": "markdown",
   "id": "91e9027f",
   "metadata": {},
   "source": [
    "#### The number of homeowners vs non-homeowners "
   ]
  },
  {
   "cell_type": "code",
   "execution_count": 28,
   "id": "ee319569",
   "metadata": {},
   "outputs": [],
   "source": [
    "home_owner=data['HomeOwner'].value_counts()"
   ]
  },
  {
   "cell_type": "code",
   "execution_count": 29,
   "id": "bc3b200c",
   "metadata": {},
   "outputs": [
    {
     "data": {
      "image/png": "[encoded data removed]",
      "text/plain": [
       "<Figure size 432x288 with 1 Axes>"
      ]
     },
     "metadata": {
      "needs_background": "light"
     },
     "output_type": "display_data"
    }
   ],
   "source": [
    "home_owner.plot.bar()\n",
    "\n",
    "plt.title('Count of Home Owners')\n",
    "plt.xlabel('Home Owner')\n",
    "plt.ylabel('Count')\n",
    "\n",
    "plt.show()"
   ]
  },
  {
   "cell_type": "markdown",
   "id": "080a9b53",
   "metadata": {},
   "source": [
    "#### Total number of customers by EducationLevel "
   ]
  },
  {
   "cell_type": "code",
   "execution_count": 30,
   "id": "cf328ead",
   "metadata": {},
   "outputs": [],
   "source": [
    "education=data['EducationLevel'].value_counts()"
   ]
  },
  {
   "cell_type": "code",
   "execution_count": 31,
   "id": "62687530",
   "metadata": {},
   "outputs": [
    {
     "data": {
      "image/png": "[encoded data removed]",
      "text/plain": [
       "<Figure size 432x288 with 1 Axes>"
      ]
     },
     "metadata": {
      "needs_background": "light"
     },
     "output_type": "display_data"
    }
   ],
   "source": [
    "education.plot.bar()\n",
    "\n",
    "plt.title('Count of Education level')\n",
    "plt.xlabel('Education')\n",
    "plt.ylabel('Count')\n",
    "\n",
    "plt.show()"
   ]
  },
  {
   "cell_type": "markdown",
   "id": "ce88b46a",
   "metadata": {},
   "source": [
    "#### The distribution of Total Children "
   ]
  },
  {
   "cell_type": "code",
   "execution_count": 32,
   "id": "63ac5c0d",
   "metadata": {},
   "outputs": [],
   "source": [
    "children=data['TotalChildren'].value_counts()"
   ]
  },
  {
   "cell_type": "code",
   "execution_count": 33,
   "id": "e26396a3",
   "metadata": {},
   "outputs": [
    {
     "name": "stdout",
     "output_type": "stream",
     "text": [
      "0    5050\n",
      "2    3673\n",
      "1    3529\n",
      "4    2241\n",
      "3    2138\n",
      "5    1387\n",
      "Name: TotalChildren, dtype: int64\n"
     ]
    }
   ],
   "source": [
    "print(children)"
   ]
  },
  {
   "cell_type": "code",
   "execution_count": 34,
   "id": "66a3074d",
   "metadata": {},
   "outputs": [
    {
     "data": {
      "image/png": "[encoded data removed]",
      "text/plain": [
       "<Figure size 432x288 with 1 Axes>"
      ]
     },
     "metadata": {
      "needs_background": "light"
     },
     "output_type": "display_data"
    }
   ],
   "source": [
    "children.plot.hist(orientation='vertical')\n",
    "plt.title('Distribution of Children')\n",
    "plt.xlabel('Number of Children')\n",
    "plt.ylabel('Frequency')\n",
    "plt.show()"
   ]
  },
  {
   "cell_type": "markdown",
   "id": "b3b2ed08",
   "metadata": {},
   "source": [
    "#### Showing the proportion of different MaritalStatus categories within a specific Occupation. "
   ]
  },
  {
   "cell_type": "code",
   "execution_count": 35,
   "id": "9d3fcd9a",
   "metadata": {},
   "outputs": [
    {
     "data": {
      "text/plain": [
       "Text(0, 0.5, '')"
      ]
     },
     "execution_count": 35,
     "metadata": {},
     "output_type": "execute_result"
    },
    {
     "data": {
      "image/png": "[encoded data removed]",
      "text/plain": [
       "<Figure size 864x432 with 2 Axes>"
      ]
     },
     "metadata": {},
     "output_type": "display_data"
    }
   ],
   "source": [
    "grouped_data = data.groupby(['Occupation', 'MaritalStatus']).size()\n",
    "\n",
    "grouped_data.unstack().plot.pie(subplots=True, figsize=(12, 6), autopct='%1.1f%%', startangle=90)\n",
    "\n",
    "plt.title('Proportion of MaritalStatus Categories within Each Occupation')\n",
    "plt.ylabel('')\n"
   ]
  },
  {
   "cell_type": "markdown",
   "id": "777f81ec",
   "metadata": {},
   "source": [
    " #### comparing the count of male vs. female customers in each Education Level "
   ]
  },
  {
   "cell_type": "code",
   "execution_count": 36,
   "id": "08e0a8a6",
   "metadata": {},
   "outputs": [
    {
     "data": {
      "text/plain": [
       "<AxesSubplot:xlabel='Gender'>"
      ]
     },
     "execution_count": 36,
     "metadata": {},
     "output_type": "execute_result"
    },
    {
     "data": {
      "image/png": "[encoded data removed]",
      "text/plain": [
       "<Figure size 864x432 with 1 Axes>"
      ]
     },
     "metadata": {
      "needs_background": "light"
     },
     "output_type": "display_data"
    }
   ],
   "source": [
    "martial=data.groupby(['Gender','EducationLevel']).size()\n",
    "martial.unstack().plot.bar( figsize=(12, 6))"
   ]
  },
  {
   "cell_type": "markdown",
   "id": "3cac0992",
   "metadata": {},
   "source": [
    " #### The average number of Total Children across different income ranges."
   ]
  },
  {
   "cell_type": "code",
   "execution_count": 37,
   "id": "6346806e",
   "metadata": {},
   "outputs": [
    {
     "data": {
      "image/png": "[encoded data removed]",
      "text/plain": [
       "<Figure size 432x288 with 1 Axes>"
      ]
     },
     "metadata": {
      "needs_background": "light"
     },
     "output_type": "display_data"
    }
   ],
   "source": [
    "income_ranges = pd.cut(data['AnnualIncome'], bins=[0, 50000, 100000, 150000], labels=['Low', 'Medium', 'High'])\n",
    "\n",
    "avg_children_by_income = data.groupby(income_ranges)['TotalChildren'].mean()\n",
    "\n",
    "avg_children_by_income.plot(kind='line', marker='o')\n",
    "\n",
    "plt.title('Average Number of Total Children Across Different Income Ranges')\n",
    "plt.xlabel('Income Range')\n",
    "plt.ylabel('Average Number of TotalChildren')\n",
    "\n",
    "plt.show()"
   ]
  },
  {
   "cell_type": "markdown",
   "id": "619ad64f",
   "metadata": {},
   "source": [
    " ####  The count of customers by HomeOwner status for each Marital Status"
   ]
  },
  {
   "cell_type": "code",
   "execution_count": 38,
   "id": "577bd685",
   "metadata": {},
   "outputs": [
    {
     "data": {
      "image/png": "[encoded data removed]",
      "text/plain": [
       "<Figure size 432x288 with 1 Axes>"
      ]
     },
     "metadata": {
      "needs_background": "light"
     },
     "output_type": "display_data"
    }
   ],
   "source": [
    "data['BirthMonth'] = data['BirthDate'].dt.month\n",
    "\n",
    "birth_month = data.groupby('BirthMonth').size()\n",
    "\n",
    "birth_month.plot(kind='bar')\n",
    "\n",
    "plt.title('Distribution of Customers\\' Birth Months')\n",
    "plt.xlabel('Birth Month')\n",
    "plt.ylabel('Count')\n",
    "\n",
    "plt.show()"
   ]
  },
  {
   "cell_type": "markdown",
   "id": "6640cef5",
   "metadata": {},
   "source": [
    " ####  The proportion of customers by Occupation within a specific income range."
   ]
  },
  {
   "cell_type": "code",
   "execution_count": 39,
   "id": "c970e3ae",
   "metadata": {},
   "outputs": [
    {
     "data": {
      "image/png": "[encoded data removed]",
      "text/plain": [
       "<Figure size 432x288 with 1 Axes>"
      ]
     },
     "metadata": {},
     "output_type": "display_data"
    }
   ],
   "source": [
    "income_range = pd.cut(data['AnnualIncome'], bins=[0, 50000, 100000, 150000], labels=['Low', 'Medium', 'High'])\n",
    "filtered_df = data[income_range == 'Medium']\n",
    "occupation_proportions = filtered_df.groupby('Occupation').size() / len(filtered_df)\n",
    "occupation_proportions.plot(kind='pie', autopct='%1.1f%%')\n",
    "plt.title('Proportion of Customers by Occupation within the Medium Income Range')\n",
    "plt.show()"
   ]
  },
  {
   "cell_type": "markdown",
   "id": "6022b821",
   "metadata": {},
   "source": [
    " #### The frequency of each Education Level category"
   ]
  },
  {
   "cell_type": "code",
   "execution_count": 40,
   "id": "6a5022f4",
   "metadata": {},
   "outputs": [
    {
     "data": {
      "text/plain": [
       "Text(0, 0.5, 'Frequency')"
      ]
     },
     "execution_count": 40,
     "metadata": {},
     "output_type": "execute_result"
    },
    {
     "data": {
      "image/png": "[encoded data removed]",
      "text/plain": [
       "<Figure size 432x288 with 1 Axes>"
      ]
     },
     "metadata": {
      "needs_background": "light"
     },
     "output_type": "display_data"
    }
   ],
   "source": [
    "education = data['EducationLevel'].value_counts()\n",
    "\n",
    "education.plot(kind='bar')\n",
    "\n",
    "plt.title('Frequency of Each EducationLevel Category')\n",
    "plt.xlabel('Education Level')\n",
    "plt.ylabel('Frequency')"
   ]
  }
 ],
 "metadata": {
  "kernelspec": {
   "display_name": "Python 3",
   "language": "python",
   "name": "python3"
  },
  "language_info": {
   "codemirror_mode": {
    "name": "ipython",
    "version": 3
   },
   "file_extension": ".py",
   "mimetype": "text/x-python",
   "name": "python",
   "nbconvert_exporter": "python",
   "pygments_lexer": "ipython3",
   "version": "3.8.8"
  }
 },
 "nbformat": 4,
 "nbformat_minor": 5
}
